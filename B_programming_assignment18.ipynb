{
 "cells": [
  {
   "cell_type": "code",
   "execution_count": 10,
   "id": "4dbddf1e",
   "metadata": {},
   "outputs": [],
   "source": [
    "\"\"\"Question 1\n",
    "Create a function that takes a list of non-negative integers and strings and return a new list without the strings.\n",
    "Examples\n",
    "filter_list([1, 2, \"a\", \"b\"]) ➞ [1, 2]\n",
    "\n",
    "filter_list([1, \"a\", \"b\", 0, 15]) ➞ [1, 0, 15]\n",
    "\n",
    "filter_list([1, 2, \"aasf\", \"1\", \"123\", 123]) ➞ [1, 2, 123]\n",
    "\n",
    "\"\"\"\n",
    "\n",
    "def filter_list(l):\n",
    "    new_list = []\n",
    "    for x in l:\n",
    "        if type(x) == int:\n",
    "            new_list.append(x)\n",
    "    return new_list\n",
    "\n"
   ]
  },
  {
   "cell_type": "code",
   "execution_count": 12,
   "id": "d0898497",
   "metadata": {},
   "outputs": [
    {
     "name": "stdout",
     "output_type": "stream",
     "text": [
      "[1, 2]\n",
      "[1, 0, 15]\n",
      "[1, 2, 123]\n"
     ]
    }
   ],
   "source": [
    "print(filter_list([1, 2, \"a\", \"b\"]))\n",
    "print(filter_list([1, \"a\", \"b\", 0, 15]))\n",
    "print(filter_list([1, 2, \"aasf\", \"1\", \"123\", 123]))"
   ]
  },
  {
   "cell_type": "code",
   "execution_count": 15,
   "id": "b4b4bbaf",
   "metadata": {},
   "outputs": [
    {
     "name": "stdout",
     "output_type": "stream",
     "text": [
      "dlroW olleH\n",
      "dlroW olleH\n",
      "dlroW olleH\n",
      "dlroW olleH\n",
      "dlroW olleH\n",
      "dlroW olleH\n",
      "dlroW olleH\n",
      "dlroW olleH\n",
      "dlroW olleH\n",
      "dlroW olleH\n",
      "dlroW olleH\n",
      "None\n"
     ]
    }
   ],
   "source": [
    "\"\"\"Question 2\n",
    "The \"Reverser\" takes a string as input and returns that string in reverse order, with the opposite case.\n",
    "Examples\n",
    "reverse(\"Hello World\") ➞ \"DLROw OLLEh\"\n",
    "\n",
    "reverse(\"ReVeRsE\") ➞ \"eSrEvEr\"\n",
    "\n",
    "reverse(\"Radar\") ➞ \"RADAr\"\n",
    "\"\"\"\n",
    "def reverse(str):\n",
    "    for i in str:\n",
    "        print(str[::-1])\n",
    "print(reverse(\"Hello World\"))        \n",
    "    "
   ]
  },
  {
   "cell_type": "code",
   "execution_count": 2,
   "id": "1fe36a81",
   "metadata": {},
   "outputs": [],
   "source": [
    "\"\"\"Question 4\n",
    "Write a function that calculates the factorial of a number recursively.\n",
    "Examples\n",
    "factorial(5) ➞ 120\n",
    "\n",
    "factorial(3) ➞ 6\n",
    "\n",
    "factorial(1) ➞ 1\n",
    "\n",
    "factorial(0) ➞ 1\n",
    "\n",
    "\"\"\"\n",
    "\n",
    "def factorial(a):\n",
    "    fact = 1\n",
    "    for i in range(1, a+1):\n",
    "        fact = fact *i\n",
    "    return fact"
   ]
  },
  {
   "cell_type": "code",
   "execution_count": 4,
   "id": "0495ba3e",
   "metadata": {},
   "outputs": [
    {
     "name": "stdout",
     "output_type": "stream",
     "text": [
      "120\n",
      "6\n",
      "1\n",
      "1\n"
     ]
    }
   ],
   "source": [
    "print(factorial(5))\n",
    "print(factorial(3))\n",
    "print(factorial(1))\n",
    "print(factorial(0))"
   ]
  },
  {
   "cell_type": "code",
   "execution_count": 5,
   "id": "320ba7f6",
   "metadata": {},
   "outputs": [
    {
     "name": "stdout",
     "output_type": "stream",
     "text": [
      "[1, 1, 3, 2, 4, 4]\n",
      "[3, 4, 7, 8, 9, 1, 2, 3, 4]\n"
     ]
    }
   ],
   "source": [
    "\"\"\"Question 5\n",
    "Write a function that moves all elements of one type to the end of the list.\n",
    "Examples\n",
    "move_to_end([1, 3, 2, 4, 4, 1], 1) ➞ [3, 2, 4, 4, 1, 1]\n",
    "# Move all the 1s to the end of the array.\n",
    "\n",
    "move_to_end([7, 8, 9, 1, 2, 3, 4], 9) ➞ [7, 8, 1, 2, 3, 4, 9]\n",
    "\n",
    "move_to_end([\"a\", \"a\", \"a\", \"b\"], \"a\") ➞ [\"b\", \"a\", \"a\", \"a\"]\n",
    "\"\"\"\n",
    "def move_to_end(lst, x):\n",
    "    output_lst = []\n",
    "    y = len(lst)\n",
    "    for i in range(y-x,y):\n",
    "        output_lst.append(lst[i])\n",
    "    for i in range(0, y-x):\n",
    "         output_lst.append(lst[i])\n",
    "    return output_lst\n",
    "\n",
    "print(move_to_end([1, 3, 2, 4, 4, 1], 1))\n",
    "print(move_to_end([7, 8, 9, 1, 2, 3, 4], 9))\n",
    "\n",
    "        \n",
    "        \n",
    "    "
   ]
  },
  {
   "cell_type": "code",
   "execution_count": null,
   "id": "a11d615f",
   "metadata": {},
   "outputs": [],
   "source": []
  }
 ],
 "metadata": {
  "kernelspec": {
   "display_name": "Python 3",
   "language": "python",
   "name": "python3"
  },
  "language_info": {
   "codemirror_mode": {
    "name": "ipython",
    "version": 3
   },
   "file_extension": ".py",
   "mimetype": "text/x-python",
   "name": "python",
   "nbconvert_exporter": "python",
   "pygments_lexer": "ipython3",
   "version": "3.8.8"
  }
 },
 "nbformat": 4,
 "nbformat_minor": 5
}
