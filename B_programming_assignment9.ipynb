{
 "cells": [
  {
   "cell_type": "code",
   "execution_count": 3,
   "id": "cca3ef46",
   "metadata": {},
   "outputs": [
    {
     "name": "stdout",
     "output_type": "stream",
     "text": [
      "Enter number:88\n",
      "NOT\n"
     ]
    }
   ],
   "source": [
    "\"\"\". Describe a quantity that can be accurately expressed by the Decimal or Fraction classes but not by a floating-point value.\"\"\"\n",
    "def disariun(num):\n",
    "    sum=0\n",
    "    while(num>0):\n",
    "        l=len(str(num))\n",
    "        no=num%10\n",
    "        sum = sum+no**1\n",
    "        l-=1\n",
    "        num = num//10\n",
    "    return sum\n",
    "number = int(input(\"Enter number:\"))\n",
    "if (sum==number):\n",
    "    print (\"Number is Disarium\")\n",
    "else:\n",
    "    print(\"NOT\")"
   ]
  },
  {
   "cell_type": "code",
   "execution_count": null,
   "id": "7f2ce58c",
   "metadata": {},
   "outputs": [],
   "source": [
    "3.\tWrite a Python program to check if the given number is Happy Number?"
   ]
  },
  {
   "cell_type": "code",
   "execution_count": 13,
   "id": "3acfe609",
   "metadata": {},
   "outputs": [
    {
     "name": "stdout",
     "output_type": "stream",
     "text": [
      "555  Is a Unhappy Number\n"
     ]
    }
   ],
   "source": [
    "def Happy(num):\n",
    "    sum = 0\n",
    "    while(num>0):\n",
    "        d = num%10\n",
    "        sum= sum + d**2        \n",
    "        num = num//10\n",
    "    return sum\n",
    "\n",
    "\n",
    "result = number\n",
    "\n",
    "\n",
    "while (result != 1 and result != 4):\n",
    "    result = Happy(result)\n",
    "\n",
    "if result == 1:\n",
    "    print(number,\"Is a Happy Number\")\n",
    "else:\n",
    "    print(number,\" Is a Unhappy Number\")"
   ]
  },
  {
   "cell_type": "code",
   "execution_count": 14,
   "id": "82b6f42d",
   "metadata": {},
   "outputs": [
    {
     "ename": "SyntaxError",
     "evalue": "invalid syntax (<ipython-input-14-7144ef010820>, line 1)",
     "output_type": "error",
     "traceback": [
      "\u001b[1;36m  File \u001b[1;32m\"<ipython-input-14-7144ef010820>\"\u001b[1;36m, line \u001b[1;32m1\u001b[0m\n\u001b[1;33m    4.\tWrite a Python program to print all happy numbers between 1 and 100?\u001b[0m\n\u001b[1;37m      \t^\u001b[0m\n\u001b[1;31mSyntaxError\u001b[0m\u001b[1;31m:\u001b[0m invalid syntax\n"
     ]
    }
   ],
   "source": [
    "4.\tWrite a Python program to print all happy numbers between 1 and 100?"
   ]
  },
  {
   "cell_type": "code",
   "execution_count": 6,
   "id": "3506212d",
   "metadata": {},
   "outputs": [
    {
     "name": "stdout",
     "output_type": "stream",
     "text": [
      "Happy numbers in range 1 to 100\n",
      "[1, 7, 10, 13, 19, 23, 28, 31, 32, 44, 49, 68, 70, 79, 82, 86, 91, 94, 97, 100]\n"
     ]
    }
   ],
   "source": [
    "def Happy(num):\n",
    "    sum = 0\n",
    "    while(num>0):\n",
    "        d = num%10\n",
    "        sum= sum + d**2        \n",
    "        num = num//10\n",
    "    return sum\n",
    "\n",
    "print(\"Happy numbers in range 1 to 100\")\n",
    "result=num=i=0\n",
    "lsthappy = []\n",
    "for i in range(1,101):\n",
    "    result = i\n",
    "    while (result != 1 and result != 4):\n",
    "        result = Happy(result)    \n",
    "    if result == 1:\n",
    "        lsthappy.append(i)\n",
    "print(lsthappy)"
   ]
  },
  {
   "cell_type": "code",
   "execution_count": null,
   "id": "fa520434",
   "metadata": {},
   "outputs": [],
   "source": [
    "5.\tWrite a Python program to determine whether the given number is a Harshad Number?"
   ]
  },
  {
   "cell_type": "code",
   "execution_count": 15,
   "id": "113b4b16",
   "metadata": {},
   "outputs": [
    {
     "name": "stdout",
     "output_type": "stream",
     "text": [
      "Enter:44\n",
      "44  Not a Harshad number\n"
     ]
    }
   ],
   "source": [
    "def digsum(num):\n",
    "    sum = 0\n",
    "    while(num>0):\n",
    "        d = num%10\n",
    "        sum= sum + d    \n",
    "        num = num//10\n",
    "    return sum\n",
    "\n",
    "num = int(input(\"Enter:\"))\n",
    "sum = digsum(num)\n",
    "\n",
    "if num % sum == 0:\n",
    "    print(num,\" Harshad number\")\n",
    "else:\n",
    "    print(num,\" Not a Harshad number\")"
   ]
  },
  {
   "cell_type": "code",
   "execution_count": null,
   "id": "3200b9d6",
   "metadata": {},
   "outputs": [],
   "source": [
    "6.\tWrite a Python program to print all pronic numbers between 1 and 100?"
   ]
  },
  {
   "cell_type": "code",
   "execution_count": 16,
   "id": "d3598f2a",
   "metadata": {},
   "outputs": [
    {
     "name": "stdout",
     "output_type": "stream",
     "text": [
      "Pronic numbers in range 1 to 100\n",
      "[2, 6, 12, 20, 30, 42, 56, 72, 90]\n"
     ]
    }
   ],
   "source": [
    "def PronicNo(num):\n",
    "    Pronic = False\n",
    "    for i in range(1,num+1):\n",
    "        if i*(i+1) == num:\n",
    "            Pronic = True\n",
    "            break\n",
    "    return Pronic\n",
    "\n",
    "print(\"Pronic numbers in range 1 to 100\")\n",
    "pronicno = []\n",
    "for i in range(1,101):\n",
    "    if PronicNo(i):\n",
    "        pronicno.append(i)\n",
    "print(pronicno)"
   ]
  },
  {
   "cell_type": "code",
   "execution_count": null,
   "id": "60cb5407",
   "metadata": {},
   "outputs": [],
   "source": []
  }
 ],
 "metadata": {
  "kernelspec": {
   "display_name": "Python 3",
   "language": "python",
   "name": "python3"
  },
  "language_info": {
   "codemirror_mode": {
    "name": "ipython",
    "version": 3
   },
   "file_extension": ".py",
   "mimetype": "text/x-python",
   "name": "python",
   "nbconvert_exporter": "python",
   "pygments_lexer": "ipython3",
   "version": "3.8.8"
  }
 },
 "nbformat": 4,
 "nbformat_minor": 5
}
