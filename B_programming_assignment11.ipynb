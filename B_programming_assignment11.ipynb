{
 "cells": [
  {
   "cell_type": "code",
   "execution_count": null,
   "id": "aaef1bc1",
   "metadata": {},
   "outputs": [],
   "source": [
    "2.\tWrite a Python program for removing i-th character from a string?"
   ]
  },
  {
   "cell_type": "code",
   "execution_count": 19,
   "id": "16de2e2c",
   "metadata": {},
   "outputs": [
    {
     "name": "stdout",
     "output_type": "stream",
     "text": [
      "['M', 'a', 'n', 'a', 's', 'i']\n",
      "['M', 'a', 'n', 'a', 's']\n"
     ]
    }
   ],
   "source": [
    "word = \"Manasi\"\n",
    "wrd = [char for char in word]\n",
    "print(wrd)\n",
    "wrd.remove(\"i\")\n",
    "print(wrd)\n"
   ]
  },
  {
   "cell_type": "code",
   "execution_count": null,
   "id": "52e58fba",
   "metadata": {},
   "outputs": [],
   "source": [
    "3.\tWrite a Python program to split and join a string?"
   ]
  },
  {
   "cell_type": "code",
   "execution_count": 11,
   "id": "4a28da2c",
   "metadata": {},
   "outputs": [],
   "source": [
    "def Word(word):\n",
    "    return [char for char in word]"
   ]
  },
  {
   "cell_type": "code",
   "execution_count": 12,
   "id": "46e30cb6",
   "metadata": {},
   "outputs": [
    {
     "name": "stdout",
     "output_type": "stream",
     "text": [
      "['M', 'a', 'n', 'a', 's', 'i']\n"
     ]
    }
   ],
   "source": [
    "word = \"Manasi\"\n",
    "print(Word(word))"
   ]
  },
  {
   "cell_type": "code",
   "execution_count": null,
   "id": "7062716c",
   "metadata": {},
   "outputs": [],
   "source": [
    "5.\tWrite a Python program to find uncommon words from two Strings?"
   ]
  },
  {
   "cell_type": "code",
   "execution_count": 20,
   "id": "0ca1507e",
   "metadata": {},
   "outputs": [],
   "source": [
    "def common(str1,str2):\n",
    "    count={}\n",
    "    for word in str1.split():\n",
    "        count[word] = count.get(word, 0) + 1\n",
    "    for word in str2.split():\n",
    "         count[word] = count.get(word, 0) + 1\n",
    "    return  [word for word in count if count[word] == 1]\n",
    "        "
   ]
  },
  {
   "cell_type": "code",
   "execution_count": 23,
   "id": "80d53ce2",
   "metadata": {},
   "outputs": [
    {
     "name": "stdout",
     "output_type": "stream",
     "text": [
      "['asi']\n"
     ]
    }
   ],
   "source": [
    "str1 = \"We are blessed to have friends\"\n",
    "str2 = \" We are blessed to have friends asi\"\n",
    "print(common(str1,str2))"
   ]
  },
  {
   "cell_type": "code",
   "execution_count": null,
   "id": "d3231b1b",
   "metadata": {},
   "outputs": [],
   "source": [
    "7.\tWrite a Python Program to check if a string contains any special character?"
   ]
  },
  {
   "cell_type": "code",
   "execution_count": 27,
   "id": "c2cb8277",
   "metadata": {},
   "outputs": [
    {
     "name": "stdout",
     "output_type": "stream",
     "text": [
      "Enter string:hhhyg77$$\n",
      "Special Character\n"
     ]
    }
   ],
   "source": [
    "import re\n",
    "string = input(\"Enter string:\")\n",
    "s_char = re.compile('[@_!#$%^&*()<>?/\\|}{~:]')\n",
    "if(s_char.search(string) == None):\n",
    "    print(\"No special character\")\n",
    "else:\n",
    "    print(\"Special Character\")\n",
    "\n"
   ]
  },
  {
   "cell_type": "code",
   "execution_count": null,
   "id": "e90730f8",
   "metadata": {},
   "outputs": [],
   "source": []
  }
 ],
 "metadata": {
  "kernelspec": {
   "display_name": "Python 3",
   "language": "python",
   "name": "python3"
  },
  "language_info": {
   "codemirror_mode": {
    "name": "ipython",
    "version": 3
   },
   "file_extension": ".py",
   "mimetype": "text/x-python",
   "name": "python",
   "nbconvert_exporter": "python",
   "pygments_lexer": "ipython3",
   "version": "3.8.8"
  }
 },
 "nbformat": 4,
 "nbformat_minor": 5
}
