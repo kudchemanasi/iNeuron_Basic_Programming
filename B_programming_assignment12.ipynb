{
 "cells": [
  {
   "cell_type": "code",
   "execution_count": null,
   "id": "f84a1763",
   "metadata": {},
   "outputs": [],
   "source": [
    "1.\tWrite a Python program to Extract Unique values dictionary values?"
   ]
  },
  {
   "cell_type": "code",
   "execution_count": 1,
   "id": "12620552",
   "metadata": {},
   "outputs": [],
   "source": [
    "dict ={\"a\":\"Manasi\" , \"b\":\"Samarth\" , \"c\":\"Prajana\" , \"d\":1234}\n"
   ]
  },
  {
   "cell_type": "code",
   "execution_count": 2,
   "id": "9150d138",
   "metadata": {},
   "outputs": [
    {
     "data": {
      "text/plain": [
       "{'a': 'Manasi', 'b': 'Samarth', 'c': 'Prajana', 'd': 1234}"
      ]
     },
     "execution_count": 2,
     "metadata": {},
     "output_type": "execute_result"
    }
   ],
   "source": [
    "dict"
   ]
  },
  {
   "cell_type": "code",
   "execution_count": 3,
   "id": "8423c8d5",
   "metadata": {},
   "outputs": [
    {
     "data": {
      "text/plain": [
       "'Manasi'"
      ]
     },
     "execution_count": 3,
     "metadata": {},
     "output_type": "execute_result"
    }
   ],
   "source": [
    "dict[\"a\"]"
   ]
  },
  {
   "cell_type": "code",
   "execution_count": null,
   "id": "542c224f",
   "metadata": {},
   "outputs": [],
   "source": [
    "2.\tWrite a Python program to find the sum of all items in a dictionary?"
   ]
  },
  {
   "cell_type": "code",
   "execution_count": null,
   "id": "ead89a61",
   "metadata": {},
   "outputs": [],
   "source": [
    "3.\tWrite a Python program to Merging two Dictionaries?"
   ]
  },
  {
   "cell_type": "code",
   "execution_count": 4,
   "id": "0fcfd3f6",
   "metadata": {},
   "outputs": [
    {
     "name": "stdout",
     "output_type": "stream",
     "text": [
      "{'a': 'Manasi', 'b': 'Samarth', 'c': 'Prajana', 'd': 785, 'e': 'Yogini', 'f': 'Vaibhav', 'g': 'Rakshanda'}\n"
     ]
    }
   ],
   "source": [
    "dict1 ={\"a\":\"Manasi\" , \"b\":\"Samarth\" , \"c\":\"Prajana\" , \"d\":1234}\n",
    "dict2 ={\"e\":\"Yogini\" , \"f\":\"Vaibhav\" , \"g\":\"Rakshanda\" , \"d\":785}\n",
    "print({**dict1,**dict2})"
   ]
  },
  {
   "cell_type": "code",
   "execution_count": 7,
   "id": "b13345e9",
   "metadata": {},
   "outputs": [
    {
     "name": "stdout",
     "output_type": "stream",
     "text": [
      "1464\n",
      "dict_keys(['a', 'b', 'c', 'd'])\n"
     ]
    }
   ],
   "source": [
    "dict1 ={\"a\":120 , \"b\":45, \"c\":65 , \"d\":1234}\n",
    "Sum = sum(dict1.values())\n",
    "print(Sum)\n",
    "print(dict1.keys())"
   ]
  },
  {
   "cell_type": "code",
   "execution_count": null,
   "id": "f40fd427",
   "metadata": {},
   "outputs": [],
   "source": [
    "4.\tWrite a Python program to convert key-values list to flat dictionary?"
   ]
  },
  {
   "cell_type": "code",
   "execution_count": 12,
   "id": "ead1ad98",
   "metadata": {},
   "outputs": [
    {
     "name": "stdout",
     "output_type": "stream",
     "text": [
      "[65, 45, 'b', 1234, 'c', 120, 'a', 'd']\n"
     ]
    }
   ],
   "source": [
    "dict1 ={\"a\":120 , \"b\":45, \"c\":65 , \"d\":1234}\n",
    "list(dict1)\n",
    "x=dict1.keys()\n",
    "y=dict1.values()\n",
    "z=list(y|x)\n",
    "print(z)"
   ]
  },
  {
   "cell_type": "code",
   "execution_count": null,
   "id": "4074f87a",
   "metadata": {},
   "outputs": [],
   "source": [
    "5.\tWrite a Python program to insertion at the beginning in OrderedDict?"
   ]
  },
  {
   "cell_type": "code",
   "execution_count": 17,
   "id": "638face0",
   "metadata": {},
   "outputs": [
    {
     "name": "stdout",
     "output_type": "stream",
     "text": [
      "OrderedDict([('e', 'Yogini'), ('f', 'Vaibhav'), ('g', 'Rakshanda'), ('d', 1234), ('a', 120), ('b', 45), ('c', 65)])\n"
     ]
    }
   ],
   "source": [
    "from collections import OrderedDict\n",
    "dict1=OrderedDict([(\"a\",120) , (\"b\",45 ), (\"c\",65),(\"d\",1234)])\n",
    "insert = OrderedDict([(\"e\",\"Yogini\"),(\"f\",\"Vaibhav\") ,(\"g\",\"Rakshanda\"),(\"d\",785)])\n",
    "final = OrderedDict(list(insert.items())+ list(dict1.items()))\n",
    "print(final)"
   ]
  },
  {
   "cell_type": "code",
   "execution_count": null,
   "id": "406fea6b",
   "metadata": {},
   "outputs": [],
   "source": [
    "6.\tWrite a Python program to check order of character in string using OrderedDict()?\n"
   ]
  },
  {
   "cell_type": "code",
   "execution_count": 24,
   "id": "ea2ef3ee",
   "metadata": {},
   "outputs": [],
   "source": [
    "from collections import OrderedDict\n",
    "def checkOrder(Input, pattern):\n",
    "    dict = OrderedDict.fromkeys(Input)\n",
    "    pattern_length = 0\n",
    "    for key,value in dict.items():\n",
    "        if(key == pattern[pattern_length]):\n",
    "             pattern_length = pattern_length + 1\n",
    "        if(pattern_length == (len(pattern))):\n",
    "             return 'Correct Pattern'\n",
    "    return 'Inncorect pattern'\n",
    "    "
   ]
  },
  {
   "cell_type": "code",
   "execution_count": 25,
   "id": "138a48a1",
   "metadata": {},
   "outputs": [
    {
     "name": "stdout",
     "output_type": "stream",
     "text": [
      "The string is \n",
      "Hi Manasi\n",
      "The input pattern is \n",
      "Ma\n",
      "Correct Pattern\n"
     ]
    }
   ],
   "source": [
    "my_input = 'Hi Manasi'\n",
    "input_pattern = 'Ma'\n",
    "print(\"The string is \")\n",
    "print(my_input)\n",
    "print(\"The input pattern is \")\n",
    "print(input_pattern)\n",
    "print(checkOrder(my_input,input_pattern))"
   ]
  },
  {
   "cell_type": "code",
   "execution_count": null,
   "id": "458cb7f1",
   "metadata": {},
   "outputs": [],
   "source": [
    "7.\tWrite a Python program to sort Python Dictionaries by Key or Value?"
   ]
  },
  {
   "cell_type": "code",
   "execution_count": 29,
   "id": "81a2b8dd",
   "metadata": {},
   "outputs": [
    {
     "name": "stdout",
     "output_type": "stream",
     "text": [
      "a:Manasi\n",
      "b:Samarth\n",
      "c:Prajana\n",
      "d:1234\n"
     ]
    }
   ],
   "source": [
    "dict1 ={\"a\":\"Manasi\" , \"b\":\"Samarth\" , \"c\":\"Prajana\" , \"d\":1234}\n",
    "for key in sorted(dict1):\n",
    "    print(\"%s:%s\" % (key,dict1[key]))"
   ]
  },
  {
   "cell_type": "code",
   "execution_count": null,
   "id": "2e936cd3",
   "metadata": {},
   "outputs": [],
   "source": []
  },
  {
   "cell_type": "code",
   "execution_count": null,
   "id": "35c237d0",
   "metadata": {},
   "outputs": [],
   "source": []
  }
 ],
 "metadata": {
  "kernelspec": {
   "display_name": "Python 3",
   "language": "python",
   "name": "python3"
  },
  "language_info": {
   "codemirror_mode": {
    "name": "ipython",
    "version": 3
   },
   "file_extension": ".py",
   "mimetype": "text/x-python",
   "name": "python",
   "nbconvert_exporter": "python",
   "pygments_lexer": "ipython3",
   "version": "3.8.8"
  }
 },
 "nbformat": 4,
 "nbformat_minor": 5
}
